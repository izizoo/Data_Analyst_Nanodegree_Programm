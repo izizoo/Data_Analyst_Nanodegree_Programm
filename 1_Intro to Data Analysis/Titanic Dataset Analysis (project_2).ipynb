{
 "cells": [
  {
   "cell_type": "markdown",
   "metadata": {},
   "source": [
    "# Importing required libraries:\n",
    "---"
   ]
  },
  {
   "cell_type": "code",
   "execution_count": 533,
   "metadata": {
    "collapsed": true
   },
   "outputs": [],
   "source": [
    "import pandas as pd\n",
    "import numpy as np\n",
    "import matplotlib.pyplot as plt"
   ]
  },
  {
   "cell_type": "markdown",
   "metadata": {},
   "source": [
    "### Notes:\n",
    "\n",
    "- Some of rows in the dataset will be eliminted if they are empty.\n",
    "- If the analysis process need to work on the \"Age\" column, all passengers who have unknown age won't be included in the analysis and so on."
   ]
  },
  {
   "cell_type": "markdown",
   "metadata": {},
   "source": [
    "# Data wrangling:\n",
    "---\n",
    "\n",
    "#### VARIABLE DESCRIPTIONS:\n",
    "\n",
    "column | description\n",
    "------ | -----\n",
    "PassengerId | Passanger number in  the dataset\n",
    "survival |Survival (0 = No; 1 = Yes)\n",
    "pclass | Passenger Class (1 = 1st; 2 = 2nd; 3 = 3rd)\n",
    "name  | Name\n",
    "sex  |  Sex\n",
    "age  | Age\n",
    "sibsp | Number of Siblings/Spouses\n",
    "parch | Number of Parents/Children\n",
    "ticket | Ticket Number\n",
    "fare | Passenger Fare\n",
    "cabin | Cabin\n",
    "embarked | Port of Embarkation (C = Cherbourg; Q = Queenstown; S = Southhampton)\n",
    "\n"
   ]
  },
  {
   "cell_type": "code",
   "execution_count": 534,
   "metadata": {
    "collapsed": true
   },
   "outputs": [],
   "source": [
    "allData = pd.read_csv(\"titanic-data.csv\")\n",
    "TitanicPassengersData = allData"
   ]
  },
  {
   "cell_type": "markdown",
   "metadata": {},
   "source": [
    "#### Make things readable and clean:\n",
    "---"
   ]
  },
  {
   "cell_type": "code",
   "execution_count": 535,
   "metadata": {
    "collapsed": true
   },
   "outputs": [],
   "source": [
    "def toFullPortName(port):\n",
    "    if port == \"C\":\n",
    "        return \"Cherbourg\"\n",
    "    elif port == \"Q\":\n",
    "        return \"Queenstown\"\n",
    "    elif port == \"S\":\n",
    "        return \"Southhampton\"\n",
    "    else:\n",
    "        return port \n",
    "    \n",
    "def isSurvived(status):\n",
    "    if status == 0:\n",
    "        return \"No\"\n",
    "    elif status == 1:\n",
    "        return \"Yes\"\n",
    "    else:\n",
    "        return status\n",
    "\n",
    "def toClassName(classId):\n",
    "    if classId == 1:\n",
    "        return \"1st\"\n",
    "    elif classId == 2:\n",
    "        return \"2nd\"\n",
    "    elif classId == 3:\n",
    "        return \"3rd\"\n",
    "    else:\n",
    "        return classId\n",
    "    \n",
    "TitanicPassengersData[\"Embarked\"] = TitanicPassengersData[\"Embarked\"].apply(toFullPortName)\n",
    "TitanicPassengersData[\"Survived\"] = TitanicPassengersData[\"Survived\"].apply(isSurvived)\n",
    "TitanicPassengersData[\"Pclass\"] = TitanicPassengersData[\"Pclass\"].apply(toClassName)"
   ]
  },
  {
   "cell_type": "markdown",
   "metadata": {},
   "source": [
    "### Data after cleaning up:\n",
    "---"
   ]
  },
  {
   "cell_type": "code",
   "execution_count": 536,
   "metadata": {},
   "outputs": [
    {
     "data": {
      "text/html": [
       "<div>\n",
       "<style>\n",
       "    .dataframe thead tr:only-child th {\n",
       "        text-align: right;\n",
       "    }\n",
       "\n",
       "    .dataframe thead th {\n",
       "        text-align: left;\n",
       "    }\n",
       "\n",
       "    .dataframe tbody tr th {\n",
       "        vertical-align: top;\n",
       "    }\n",
       "</style>\n",
       "<table border=\"1\" class=\"dataframe\">\n",
       "  <thead>\n",
       "    <tr style=\"text-align: right;\">\n",
       "      <th></th>\n",
       "      <th>PassengerId</th>\n",
       "      <th>Survived</th>\n",
       "      <th>Pclass</th>\n",
       "      <th>Name</th>\n",
       "      <th>Sex</th>\n",
       "      <th>Age</th>\n",
       "      <th>SibSp</th>\n",
       "      <th>Parch</th>\n",
       "      <th>Ticket</th>\n",
       "      <th>Fare</th>\n",
       "      <th>Cabin</th>\n",
       "      <th>Embarked</th>\n",
       "    </tr>\n",
       "  </thead>\n",
       "  <tbody>\n",
       "    <tr>\n",
       "      <th>0</th>\n",
       "      <td>1</td>\n",
       "      <td>No</td>\n",
       "      <td>3rd</td>\n",
       "      <td>Braund, Mr. Owen Harris</td>\n",
       "      <td>male</td>\n",
       "      <td>22.0</td>\n",
       "      <td>1</td>\n",
       "      <td>0</td>\n",
       "      <td>A/5 21171</td>\n",
       "      <td>7.2500</td>\n",
       "      <td>NaN</td>\n",
       "      <td>Southhampton</td>\n",
       "    </tr>\n",
       "    <tr>\n",
       "      <th>1</th>\n",
       "      <td>2</td>\n",
       "      <td>Yes</td>\n",
       "      <td>1st</td>\n",
       "      <td>Cumings, Mrs. John Bradley (Florence Briggs Th...</td>\n",
       "      <td>female</td>\n",
       "      <td>38.0</td>\n",
       "      <td>1</td>\n",
       "      <td>0</td>\n",
       "      <td>PC 17599</td>\n",
       "      <td>71.2833</td>\n",
       "      <td>C85</td>\n",
       "      <td>Cherbourg</td>\n",
       "    </tr>\n",
       "    <tr>\n",
       "      <th>2</th>\n",
       "      <td>3</td>\n",
       "      <td>Yes</td>\n",
       "      <td>3rd</td>\n",
       "      <td>Heikkinen, Miss. Laina</td>\n",
       "      <td>female</td>\n",
       "      <td>26.0</td>\n",
       "      <td>0</td>\n",
       "      <td>0</td>\n",
       "      <td>STON/O2. 3101282</td>\n",
       "      <td>7.9250</td>\n",
       "      <td>NaN</td>\n",
       "      <td>Southhampton</td>\n",
       "    </tr>\n",
       "    <tr>\n",
       "      <th>3</th>\n",
       "      <td>4</td>\n",
       "      <td>Yes</td>\n",
       "      <td>1st</td>\n",
       "      <td>Futrelle, Mrs. Jacques Heath (Lily May Peel)</td>\n",
       "      <td>female</td>\n",
       "      <td>35.0</td>\n",
       "      <td>1</td>\n",
       "      <td>0</td>\n",
       "      <td>113803</td>\n",
       "      <td>53.1000</td>\n",
       "      <td>C123</td>\n",
       "      <td>Southhampton</td>\n",
       "    </tr>\n",
       "    <tr>\n",
       "      <th>4</th>\n",
       "      <td>5</td>\n",
       "      <td>No</td>\n",
       "      <td>3rd</td>\n",
       "      <td>Allen, Mr. William Henry</td>\n",
       "      <td>male</td>\n",
       "      <td>35.0</td>\n",
       "      <td>0</td>\n",
       "      <td>0</td>\n",
       "      <td>373450</td>\n",
       "      <td>8.0500</td>\n",
       "      <td>NaN</td>\n",
       "      <td>Southhampton</td>\n",
       "    </tr>\n",
       "  </tbody>\n",
       "</table>\n",
       "</div>"
      ],
      "text/plain": [
       "   PassengerId Survived Pclass  \\\n",
       "0            1       No    3rd   \n",
       "1            2      Yes    1st   \n",
       "2            3      Yes    3rd   \n",
       "3            4      Yes    1st   \n",
       "4            5       No    3rd   \n",
       "\n",
       "                                                Name     Sex   Age  SibSp  \\\n",
       "0                            Braund, Mr. Owen Harris    male  22.0      1   \n",
       "1  Cumings, Mrs. John Bradley (Florence Briggs Th...  female  38.0      1   \n",
       "2                             Heikkinen, Miss. Laina  female  26.0      0   \n",
       "3       Futrelle, Mrs. Jacques Heath (Lily May Peel)  female  35.0      1   \n",
       "4                           Allen, Mr. William Henry    male  35.0      0   \n",
       "\n",
       "   Parch            Ticket     Fare Cabin      Embarked  \n",
       "0      0         A/5 21171   7.2500   NaN  Southhampton  \n",
       "1      0          PC 17599  71.2833   C85     Cherbourg  \n",
       "2      0  STON/O2. 3101282   7.9250   NaN  Southhampton  \n",
       "3      0            113803  53.1000  C123  Southhampton  \n",
       "4      0            373450   8.0500   NaN  Southhampton  "
      ]
     },
     "execution_count": 536,
     "metadata": {},
     "output_type": "execute_result"
    }
   ],
   "source": [
    "TitanicPassengersData.head()"
   ]
  },
  {
   "cell_type": "markdown",
   "metadata": {},
   "source": [
    "### Groups based on survive state:"
   ]
  },
  {
   "cell_type": "code",
   "execution_count": 537,
   "metadata": {
    "collapsed": true
   },
   "outputs": [],
   "source": [
    "survivedPeople = TitanicPassengersData[TitanicPassengersData[\"Survived\"] == \"Yes\"]\n",
    "deadPeople = TitanicPassengersData[TitanicPassengersData[\"Survived\"] == \"No\"]\n",
    "\n"
   ]
  },
  {
   "cell_type": "markdown",
   "metadata": {},
   "source": [
    "# Analysis Questions:\n",
    "---"
   ]
  },
  {
   "cell_type": "markdown",
   "metadata": {},
   "source": [
    "Q1: What is the average age for people who did and didn't survive?"
   ]
  },
  {
   "cell_type": "markdown",
   "metadata": {},
   "source": [
    "Q2: What is the rate of surviving to each passenger class?"
   ]
  },
  {
   "cell_type": "markdown",
   "metadata": {},
   "source": [
    "Q3: Which age range has the most number of passengers who did and didn't survive? (Range of 5 Years)"
   ]
  },
  {
   "cell_type": "markdown",
   "metadata": {},
   "source": [
    "Q4: What is the mean of ticket fare to each passenger class?"
   ]
  },
  {
   "cell_type": "markdown",
   "metadata": {},
   "source": [
    "Q5: What is the sex ratio (ratio of males to females)?"
   ]
  },
  {
   "cell_type": "markdown",
   "metadata": {},
   "source": [
    "Q6: What is the survivation ratio ?"
   ]
  },
  {
   "cell_type": "markdown",
   "metadata": {},
   "source": [
    "Q7: What is the relationship between the starting port (Embarked) and tickets fare"
   ]
  },
  {
   "cell_type": "markdown",
   "metadata": {},
   "source": [
    "---"
   ]
  },
  {
   "cell_type": "markdown",
   "metadata": {
    "collapsed": true
   },
   "source": [
    "# Q1: What is the average age for people who did and didn't survive?\n"
   ]
  },
  {
   "cell_type": "markdown",
   "metadata": {},
   "source": [
    "###### First let's see the distribution of passengers age:"
   ]
  },
  {
   "cell_type": "code",
   "execution_count": 538,
   "metadata": {},
   "outputs": [
    {
     "data": {
      "image/png": "[encoded data removed]",
      "text/plain": [
       "<matplotlib.figure.Figure at 0x11e35c160>"
      ]
     },
     "metadata": {},
     "output_type": "display_data"
    }
   ],
   "source": [
    "TitanicPassengersData[\"Age\"].plot.hist(title=\"Distribution of Passengers Age\", bins=range(0, 85, 10)).set_xlabel(\"Age\")\n",
    "plt.show()"
   ]
  },
  {
   "cell_type": "markdown",
   "metadata": {},
   "source": [
    "- We can see that most passengers are between 20 and 40 years old which follows a normal distribution."
   ]
  },
  {
   "cell_type": "code",
   "execution_count": 539,
   "metadata": {},
   "outputs": [
    {
     "data": {
      "text/html": [
       "<div>\n",
       "<style>\n",
       "    .dataframe thead tr:only-child th {\n",
       "        text-align: right;\n",
       "    }\n",
       "\n",
       "    .dataframe thead th {\n",
       "        text-align: left;\n",
       "    }\n",
       "\n",
       "    .dataframe tbody tr th {\n",
       "        vertical-align: top;\n",
       "    }\n",
       "</style>\n",
       "<table border=\"1\" class=\"dataframe\">\n",
       "  <thead>\n",
       "    <tr style=\"text-align: right;\">\n",
       "      <th></th>\n",
       "      <th>Mean age of all passengers</th>\n",
       "      <th>Mean age of dead passengers</th>\n",
       "      <th>Mean age of survived passengers</th>\n",
       "    </tr>\n",
       "  </thead>\n",
       "  <tbody>\n",
       "    <tr>\n",
       "      <th>Years</th>\n",
       "      <td>29.699118</td>\n",
       "      <td>30.626179</td>\n",
       "      <td>28.34369</td>\n",
       "    </tr>\n",
       "  </tbody>\n",
       "</table>\n",
       "</div>"
      ],
      "text/plain": [
       "       Mean age of all passengers  Mean age of dead passengers  \\\n",
       "Years                   29.699118                    30.626179   \n",
       "\n",
       "       Mean age of survived passengers  \n",
       "Years                         28.34369  "
      ]
     },
     "execution_count": 539,
     "metadata": {},
     "output_type": "execute_result"
    }
   ],
   "source": [
    "\n",
    "meanOfSurvived = survivedPeople[\"Age\"].mean()\n",
    "meanOfDead = deadPeople[\"Age\"].mean()\n",
    "meanAgeOfALL = TitanicPassengersData[\"Age\"].mean()\n",
    "\n",
    "pd.DataFrame({\"Mean age of all passengers\": {\"Years\": meanAgeOfALL},\"Mean age of dead passengers\": {\"Years\": meanOfDead},\"Mean age of survived passengers\": {\"Years\": meanOfSurvived}})"
   ]
  },
  {
   "cell_type": "markdown",
   "metadata": {},
   "source": [
    "- From the previews we can see that the survived passengers age has mean of 28.3 years which is 2 years younger than dead passengers\n"
   ]
  },
  {
   "cell_type": "markdown",
   "metadata": {},
   "source": [
    "---"
   ]
  },
  {
   "cell_type": "markdown",
   "metadata": {},
   "source": [
    "# Q2: What is the rate of surviving to each passenger class?"
   ]
  },
  {
   "cell_type": "code",
   "execution_count": 540,
   "metadata": {
    "collapsed": true
   },
   "outputs": [],
   "source": [
    "def splitBy(pClass):\n",
    "    passengers = TitanicPassengersData[TitanicPassengersData[\"Pclass\"] == pClass]\n",
    "    return passengers[passengers[\"Survived\"] == \"Yes\"]\n",
    "\n",
    "firstClass = splitByClass(\"1st\")\n",
    "\n",
    "secondClass = splitByClass(\"2nd\")\n",
    "\n",
    "thirdClass = splitByClass(\"3rd\")"
   ]
  },
  {
   "cell_type": "code",
   "execution_count": 541,
   "metadata": {
    "collapsed": true
   },
   "outputs": [],
   "source": [
    "survivedPeopleCount = survivedPeople[\"PassengerId\"].count()\n",
    "firstClassCount = firstClass[\"PassengerId\"].count()\n",
    "secondClassCount = secondClass[\"PassengerId\"].count()\n",
    "thirdClassCount = thirdClass[\"PassengerId\"].count()\n",
    "\n",
    "rateOfFirstClass = firstClassCount / survivedPeopleCount * 100 \n",
    "rateOfsecondClass = secondClassCount / survivedPeopleCount * 100 \n",
    "rateOfthirdClass = thirdClassCount / survivedPeopleCount * 100 \n",
    "\n",
    "rateValues = [rateOfFirstClass,rateOfsecondClass,rateOfthirdClass]\n"
   ]
  },
  {
   "cell_type": "code",
   "execution_count": 542,
   "metadata": {},
   "outputs": [
    {
     "data": {
      "image/png": "[encoded data removed]",
      "text/plain": [
       "<matplotlib.figure.Figure at 0x11c0c68d0>"
      ]
     },
     "metadata": {},
     "output_type": "display_data"
    }
   ],
   "source": [
    "plt.pie(rateValues, explode=(0.05,0,0) ,labels=[\"1st Class\",\"2nd Class\",\"3rd Class\"], autopct='%1.1f%%',\n",
    "        shadow=True, startangle=120,colors = ['gold', 'yellowgreen', 'lightcoral'])\n",
    "plt.axis('equal')\n",
    "plt.show()"
   ]
  },
  {
   "cell_type": "markdown",
   "metadata": {},
   "source": [
    "- We can see from this visualization that the most people who survived were 1st class passengers then 3rd class and last the 2nd class. "
   ]
  },
  {
   "cell_type": "markdown",
   "metadata": {},
   "source": [
    "---"
   ]
  },
  {
   "cell_type": "markdown",
   "metadata": {},
   "source": [
    "# Q3: Which age range has the most number of passengers who did and didn't survive? (Range of 5 Years)"
   ]
  },
  {
   "cell_type": "markdown",
   "metadata": {},
   "source": [
    "##### For the passengers who survived:"
   ]
  },
  {
   "cell_type": "code",
   "execution_count": 543,
   "metadata": {},
   "outputs": [
    {
     "data": {
      "image/png": "[encoded data removed]",
      "text/plain": [
       "<matplotlib.figure.Figure at 0x11ebfdc88>"
      ]
     },
     "metadata": {},
     "output_type": "display_data"
    }
   ],
   "source": [
    "survivedPeople[\"Age\"].plot(kind=\"hist\", color=\"darkblue\", bins=range(0,70,5), figsize=(6, 4),\n",
    "                          title=\"Passengers Who Survived\").set_xlabel(\"Age\")\n",
    "plt.show()"
   ]
  },
  {
   "cell_type": "code",
   "execution_count": 544,
   "metadata": {},
   "outputs": [
    {
     "data": {
      "image/png": "[encoded data removed]",
      "text/plain": [
       "<matplotlib.figure.Figure at 0x11efb6b00>"
      ]
     },
     "metadata": {},
     "output_type": "display_data"
    }
   ],
   "source": [
    "deadPeople[\"Age\"].plot(kind=\"hist\", color=\"darkgreen\", bins=range(0,80,5), figsize=(6, 4),\n",
    "                          title=\"Passengers Who Didn't Survive\").set_xlabel(\"Age\")\n",
    "plt.show()"
   ]
  },
  {
   "cell_type": "markdown",
   "metadata": {},
   "source": [
    "###### We can say now the following:\n",
    "- Most of passengers who survived are in range of 30-35 years old.\n",
    "\n",
    "- Most of passengers who didn't survive are in range of 20-25 years old."
   ]
  },
  {
   "cell_type": "markdown",
   "metadata": {},
   "source": [
    "---"
   ]
  },
  {
   "cell_type": "markdown",
   "metadata": {},
   "source": [
    "# Q4: What is the mean of ticket fare to each passenger class?"
   ]
  },
  {
   "cell_type": "code",
   "execution_count": 545,
   "metadata": {},
   "outputs": [
    {
     "data": {
      "text/html": [
       "<div>\n",
       "<style>\n",
       "    .dataframe thead tr:only-child th {\n",
       "        text-align: right;\n",
       "    }\n",
       "\n",
       "    .dataframe thead th {\n",
       "        text-align: left;\n",
       "    }\n",
       "\n",
       "    .dataframe tbody tr th {\n",
       "        vertical-align: top;\n",
       "    }\n",
       "</style>\n",
       "<table border=\"1\" class=\"dataframe\">\n",
       "  <thead>\n",
       "    <tr style=\"text-align: right;\">\n",
       "      <th></th>\n",
       "      <th>Mean of 1st class fares</th>\n",
       "      <th>Mean of 2nd class fares</th>\n",
       "      <th>Mean of 3rd class fares</th>\n",
       "    </tr>\n",
       "  </thead>\n",
       "  <tbody>\n",
       "    <tr>\n",
       "      <th>$</th>\n",
       "      <td>84.154687</td>\n",
       "      <td>20.662183</td>\n",
       "      <td>13.67555</td>\n",
       "    </tr>\n",
       "  </tbody>\n",
       "</table>\n",
       "</div>"
      ],
      "text/plain": [
       "   Mean of 1st class fares  Mean of 2nd class fares  Mean of 3rd class fares\n",
       "$                84.154687                20.662183                 13.67555"
      ]
     },
     "execution_count": 545,
     "metadata": {},
     "output_type": "execute_result"
    }
   ],
   "source": [
    "\n",
    "def splitFaresByClass(pClass):\n",
    "    return TitanicPassengersData[TitanicPassengersData[\"Pclass\"] == pClass]\n",
    "\n",
    "firstClass_fares = splitFaresByClass(\"1st\")[\"Fare\"]\n",
    "secoundClass_fares = splitFaresByClass(\"2nd\")[\"Fare\"]\n",
    "thirdClass_fares = splitFaresByClass(\"3rd\")[\"Fare\"]\n",
    "mean1st = firstClass_fares.mean()\n",
    "mean2nd = secoundClass_fares.mean()\n",
    "mean3rd = thirdClass_fares.mean()\n",
    "\n",
    "pd.DataFrame({\"Mean of 1st class fares\": {\"$\": mean1st},\"Mean of 2nd class fares\": {\"$\": mean2nd},\"Mean of 3rd class fares\": {\"$\": mean3rd}})\n",
    "\n"
   ]
  },
  {
   "cell_type": "markdown",
   "metadata": {},
   "source": [
    "---"
   ]
  },
  {
   "cell_type": "markdown",
   "metadata": {},
   "source": [
    "# Q5: What is the sex ratio (ratio of males to females)?"
   ]
  },
  {
   "cell_type": "markdown",
   "metadata": {},
   "source": [
    "###### Let's see how many passengers aboard titanic (based on sex)"
   ]
  },
  {
   "cell_type": "code",
   "execution_count": 546,
   "metadata": {},
   "outputs": [
    {
     "data": {
      "image/png": "[encoded data removed]",
      "text/plain": [
       "<matplotlib.figure.Figure at 0x11e8a7588>"
      ]
     },
     "metadata": {},
     "output_type": "display_data"
    }
   ],
   "source": [
    "countBySex = TitanicPassengersData[\"Sex\"].value_counts()\n",
    "countBySex.plot(kind=\"barh\", figsize=(10, 2),title=\"Number of passengers based on sex\", color=\"lightcoral\").set_xlabel(\"Count\")\n",
    "plt.show()"
   ]
  },
  {
   "cell_type": "markdown",
   "metadata": {},
   "source": [
    "###### We can see next the sex raito of titanic passengers."
   ]
  },
  {
   "cell_type": "code",
   "execution_count": 547,
   "metadata": {},
   "outputs": [
    {
     "data": {
      "image/png": "[encoded data removed]",
      "text/plain": [
       "<matplotlib.figure.Figure at 0x11e8fe860>"
      ]
     },
     "metadata": {},
     "output_type": "display_data"
    }
   ],
   "source": [
    "allPassengers = countBySex[\"male\"] + countBySex[\"female\"]\n",
    "\n",
    "maleRaito = countBySex[\"male\"] / allPassengers * 100\n",
    "femaleRaito = countBySex[\"female\"] / allPassengers * 100\n",
    "\n",
    "plt.pie([maleRaito,femaleRaito], explode=(0.05,0) ,labels=[\"Male\",\"Female\"], autopct='%1.1f%%',\n",
    "        shadow=True, startangle=120,colors = ['gold', 'yellowgreen', 'lightcoral'])\n",
    "plt.axis('equal')\n",
    "plt.show()"
   ]
  },
  {
   "cell_type": "markdown",
   "metadata": {},
   "source": [
    "---"
   ]
  },
  {
   "cell_type": "markdown",
   "metadata": {},
   "source": [
    "# Q6: What is the survivation ratio ?"
   ]
  },
  {
   "cell_type": "code",
   "execution_count": 548,
   "metadata": {},
   "outputs": [
    {
     "data": {
      "image/png": "[encoded data removed]",
      "text/plain": [
       "<matplotlib.figure.Figure at 0x11c107e48>"
      ]
     },
     "metadata": {},
     "output_type": "display_data"
    },
    {
     "data": {
      "image/png": "[encoded data removed]",
      "text/plain": [
       "<matplotlib.figure.Figure at 0x11ebc97b8>"
      ]
     },
     "metadata": {},
     "output_type": "display_data"
    }
   ],
   "source": [
    "def survivalState(col):\n",
    "    if col == \"No\":\n",
    "        return \"Dead\"\n",
    "    elif col == \"Yes\":\n",
    "        return \"Survived\"\n",
    "\n",
    "num_survived = TitanicPassengersData[\"Survived\"].apply(survivalState).value_counts()\n",
    "num_survived.plot(kind=\"barh\", figsize=(10, 2), color=\"darkblue\", title=\"Survived vs Dead\").set_xlabel(\"Count\")\n",
    "plt.show()\n",
    "\n",
    "allPassengersState = num_survived[\"Dead\"] + num_survived[\"Survived\"]\n",
    "\n",
    "deadRaito = num_survived[\"Dead\"] / allPassengersState * 100\n",
    "survRatio = num_survived[\"Survived\"] / allPassengersState * 100\n",
    "\n",
    "\n",
    "plt.pie([deadRaito,survRatio], explode=(0.05,0) ,labels=[\"Dead\",\"Survived\"], autopct='%1.1f%%',\n",
    "        shadow=True, startangle=120,colors = ['gold', 'yellowgreen'])\n",
    "plt.axis('equal')\n",
    "plt.show()"
   ]
  },
  {
   "cell_type": "markdown",
   "metadata": {},
   "source": [
    "---"
   ]
  },
  {
   "cell_type": "markdown",
   "metadata": {
    "collapsed": true
   },
   "source": [
    "# Q7: What is the relationship between the starting port (Embarked) and tickets fare?"
   ]
  },
  {
   "cell_type": "markdown",
   "metadata": {},
   "source": [
    "###### Let's calculate the mean of fares for each port's passengers:"
   ]
  },
  {
   "cell_type": "code",
   "execution_count": 549,
   "metadata": {},
   "outputs": [
    {
     "data": {
      "text/html": [
       "<div>\n",
       "<style>\n",
       "    .dataframe thead tr:only-child th {\n",
       "        text-align: right;\n",
       "    }\n",
       "\n",
       "    .dataframe thead th {\n",
       "        text-align: left;\n",
       "    }\n",
       "\n",
       "    .dataframe tbody tr th {\n",
       "        vertical-align: top;\n",
       "    }\n",
       "</style>\n",
       "<table border=\"1\" class=\"dataframe\">\n",
       "  <thead>\n",
       "    <tr style=\"text-align: right;\">\n",
       "      <th></th>\n",
       "      <th>Cherbourg port</th>\n",
       "      <th>Queenstown port</th>\n",
       "      <th>Southhampton port</th>\n",
       "    </tr>\n",
       "  </thead>\n",
       "  <tbody>\n",
       "    <tr>\n",
       "      <th>Count</th>\n",
       "      <td>168.000000</td>\n",
       "      <td>77.00000</td>\n",
       "      <td>644.000000</td>\n",
       "    </tr>\n",
       "    <tr>\n",
       "      <th>Mean $</th>\n",
       "      <td>59.954144</td>\n",
       "      <td>13.27603</td>\n",
       "      <td>27.079812</td>\n",
       "    </tr>\n",
       "  </tbody>\n",
       "</table>\n",
       "</div>"
      ],
      "text/plain": [
       "        Cherbourg port  Queenstown port  Southhampton port\n",
       "Count       168.000000         77.00000         644.000000\n",
       "Mean $       59.954144         13.27603          27.079812"
      ]
     },
     "execution_count": 549,
     "metadata": {},
     "output_type": "execute_result"
    }
   ],
   "source": [
    "def splitFaresByPort(port):\n",
    "    return TitanicPassengersData[TitanicPassengersData[\"Embarked\"] == port]\n",
    "\n",
    "cherbourgPort = splitFaresByPort(\"Cherbourg\")\n",
    "queenstownPort = splitFaresByPort(\"Queenstown\")\n",
    "southamptonPort = splitFaresByPort(\"Southhampton\")\n",
    "\n",
    "cherbourgPortFaresMean = cherbourgPort[\"Fare\"].mean()\n",
    "queenstownPortFareMean = queenstownPort[\"Fare\"].mean()\n",
    "southamptonPortFareMean = southamptonPort[\"Fare\"].mean()\n",
    "\n",
    "pd.DataFrame({\"Cherbourg port\": {\"Mean $\": cherbourgPortFaresMean,\"Count\": len(cherbourgPort)} ,\"Queenstown port\": {\"Mean $\": queenstownPortFareMean,\"Count\": len(queenstownPort)},\"Southhampton port\": {\"Mean $\": southamptonPortFareMean,\"Count\": len(southamptonPort)}})\n"
   ]
  },
  {
   "cell_type": "markdown",
   "metadata": {},
   "source": [
    "- From this we can see that Cherbourg port has highest mean of fares but most of passengers from Southhampton port."
   ]
  },
  {
   "cell_type": "markdown",
   "metadata": {},
   "source": [
    "---"
   ]
  },
  {
   "cell_type": "markdown",
   "metadata": {},
   "source": [
    "# Conclusions:"
   ]
  },
  {
   "cell_type": "markdown",
   "metadata": {},
   "source": [
    "At the end we can see from a survival perspective it seems that if you are 20-35 years old you will have high chance to survive plus if you are 1st class passenger this will increase the chance more.\n",
    "\n",
    "Some of data like \"Cabin\" is not helpfull unless we do understand what they are like using a map of Titanic so we can do more stuff about it.\n",
    "\n",
    "From analysis perspective, we can't say for sure that this sample of data is 100% correct and was chosen using the right way.\n"
   ]
  },
  {
   "cell_type": "markdown",
   "metadata": {},
   "source": [
    "---"
   ]
  },
  {
   "cell_type": "markdown",
   "metadata": {},
   "source": [
    "# Resources:"
   ]
  },
  {
   "cell_type": "markdown",
   "metadata": {},
   "source": [
    "###### Websites:\n",
    "\n",
    "- https://stackoverflow.com\n",
    "- https://github.com\n",
    "- https://docs.python.org/3/\n",
    "- https://www.udacity.com"
   ]
  },
  {
   "cell_type": "code",
   "execution_count": null,
   "metadata": {
    "collapsed": true
   },
   "outputs": [],
   "source": []
  }
 ],
 "metadata": {
  "kernelspec": {
   "display_name": "Python [default]",
   "language": "python",
   "name": "python3"
  },
  "language_info": {
   "codemirror_mode": {
    "name": "ipython",
    "version": 3
   },
   "file_extension": ".py",
   "mimetype": "text/x-python",
   "name": "python",
   "nbconvert_exporter": "python",
   "pygments_lexer": "ipython3",
   "version": "3.6.1"
  }
 },
 "nbformat": 4,
 "nbformat_minor": 2
}
